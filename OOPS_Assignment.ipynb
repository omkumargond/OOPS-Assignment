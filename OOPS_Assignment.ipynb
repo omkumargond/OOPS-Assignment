{
  "nbformat": 4,
  "nbformat_minor": 0,
  "metadata": {
    "colab": {
      "provenance": []
    },
    "kernelspec": {
      "name": "python3",
      "display_name": "Python 3"
    },
    "language_info": {
      "name": "python"
    }
  },
  "cells": [
    {
      "cell_type": "markdown",
      "source": [
        "#OOPS Assignment"
      ],
      "metadata": {
        "id": "j-nMWG_36h7o"
      }
    },
    {
      "cell_type": "markdown",
      "source": [
        "**Python OOPs Questions**\n",
        "\n",
        "1. What is Object-Oriented Programming (OOP)?\n",
        "- Object-Oriented Programming (OOP) is a way to organize code using objects, which have data (attributes) and functions (methods). We use classes as blueprints to create objects.\n",
        "\n",
        "2. What is a class in OOP?\n",
        "- A class in Object-Oriented Programming (OOP) is like a blueprint or template for creating objects. It defines what an object should have (its attributes) and what it can do (its methods).\n",
        "\n",
        "3. What is an object in OOP?\n",
        "- An object in Object-Oriented Programming (OOP) is a real-world thing created using a class. It’s like an actual example of a class.\n",
        "\n",
        "4. What is the difference between abstraction and encapsulation?\n",
        "- Difference between Abstraction and Encapsulation in OOP:\n",
        "\n",
        " Abstraction means hiding the complex details and showing only the important parts. It's like using a mobile phone—you don’t need to know how it works inside, you just use the features.\n",
        "\n",
        " Encapsulation means wrapping data and methods together into a single unit (a class) and protecting it from outside interference. It’s like keeping your data safe inside a box with a lock, so only certain parts can be accessed.\n",
        "\n",
        "5. What are dunder methods in Python?\n",
        "- Dunder methods in Python are special methods that have double underscores at the beginning and end of their names. \"Dunder\" stands for \"double underscore\", so for example, __init__, __str__, and __len__ are all dunder methods.\n",
        "\n",
        "6. Explain the concept of inheritance in OOPH.\n",
        "- Inheritance in Object-Oriented Programming (OOP) is when a class can use the properties and methods of another class. It’s like a child getting features from their parents.\n",
        "\n",
        "7. What is polymorphism in OOP?\n",
        "- Polymorphism in Object-Oriented Programming (OOP) means \"many forms.\" It allows the same method or function name to behave differently depending on the object using it.\n",
        "\n",
        "8. How is encapsulation achieved in Python?\n",
        "- Encapsulation in Python is achieved by hiding the data inside a class and only allowing access to it through methods. This helps to protect the data from being changed accidentally.\n",
        "\n",
        "9. What is a constructor in Python?\n",
        "- A constructor in Python is a special method that is automatically called when we create an object of a class. It’s used to initialize the object’s data.\n",
        "\n",
        "10. What are class and static methods in Python?\n",
        "- In Python, class methods and static methods are special types of methods inside a class, but they work differently from regular methods.\n",
        "\n",
        "11. What is method overloading in Python?\n",
        "- Method overloading means having multiple methods with the same name but different inputs. Python doesn’t support this directly. Instead, we use default arguments or check inputs inside one method to do similar things.\n",
        "\n",
        "12. What is method overriding in OOP?\n",
        "- Method overriding in OOP means when a child class has a method with the same name as a method in its parent class, but the child class changes or replaces how that method works.\n",
        "13. What is a property decorator in Python?\n",
        "- A property decorator in Python is a way to use methods like they are attributes. It helps to access or change private variables safely without calling a method like a function.\n",
        "\n",
        "14. Why is polymorphism important in OOP?\n",
        "- Polymorphism is important in OOP because it lets us use the same method name for different types of objects, and each object can do its own version of that method. This makes our code more flexible and easy to extend.\n",
        "\n",
        "15. What is an abstract class in Python?\n",
        "- An abstract class in Python is a class you can’t create objects from. It has abstract methods that don’t have code and must be implemented by child classes.\n",
        "\n",
        "16. What are the advantages of OOP?\n",
        "- Advantages of OOP:\n",
        "\n",
        " Organized Code\n",
        "\n",
        " Reusability\n",
        "\n",
        " Easy to Maintain\n",
        "\n",
        " Real-World Modeling\n",
        "\n",
        " Security\n",
        "\n",
        " Polymorphism\n",
        "\n",
        "17. What is the difference between a class variable and an instance variable?\n",
        "- Difference between class variable and instance variable:\n",
        "\n",
        " Class variable is shared by all objects of the class. It belongs to the class itself. If you change it, it changes for every object.\n",
        "\n",
        " Instance variable belongs to each object separately. Every object can have its own value.\n",
        "\n",
        "18. What is multiple inheritance in Python?\n",
        "- Multiple inheritance in Python is when a class can inherit from more than one parent class at the same time. This means the child class gets features (attributes and methods) from all its parent classes.\n",
        "\n",
        "19. Explain the purpose of ‘’__str__’ and ‘__repr__’ ‘ methods in Python?\n",
        "- __str__ is used to return a nice and readable string for the user, like when you print an object.\n",
        "\n",
        " __repr__ is used to return an official string that shows how to create the object or gives detailed info. It’s more for developers.\n",
        "\n",
        "20. What is the significance of the ‘super()’ function in Python?\n",
        "- The super() function in Python is used to call a method from a parent class inside a child class. It helps the child class reuse the code from the parent without writing it again.\n",
        "\n",
        "21. What is the significance of the __del__ method in Python?\n",
        "- The __del__ method in Python is a special method called a destructor. It runs automatically when an object is about to be destroyed or removed from memory. We can use it to do cleanup tasks like closing files or freeing resources.\n",
        "\n",
        "22. What is the difference between @staticmethod and @classmethod in Python?\n",
        "- Difference between @staticmethod and @classmethod in Python:\n",
        "\n",
        " @staticmethod defines a method that doesn’t need the class or object as the first argument. It works like a regular function inside a class. It can’t access class or instance data.\n",
        "\n",
        " @classmethod defines a method that takes the class (cls) as the first argument. It can access or modify class variables and can be called using the class name or an object.\n",
        "\n",
        "23. How does polymorphism work in Python with inheritance?\n",
        "- Polymorphism in Python with inheritance means that child classes can have their own versions of a method, even if the method has the same name as in the parent class.\n",
        "\n",
        "24. What is method chaining in Python OOP?\n",
        "- Method chaining in Python OOP is when you call multiple methods on the same object one after another in a single line. Each method returns the object itself, so you can keep “chaining” more method calls.\n",
        "\n",
        "25. What is the purpose of the __call__ method in Python?\n",
        "- The __call__ method in Python lets you make an object behave like a function. When you use parentheses () after an object, Python runs the __call__ method if it’s defined."
      ],
      "metadata": {
        "id": "cG0NKs5S7X7o"
      }
    },
    {
      "cell_type": "markdown",
      "source": [
        "**Practical Questions**"
      ],
      "metadata": {
        "id": "2MAh1NTEFTTl"
      }
    },
    {
      "cell_type": "code",
      "source": [
        "#1. Create a parent class Animal with a method speak() that prints a generic message. Create a child class Dog that overrides the speak() method to print \"Bark!\".\n",
        "'''\n",
        "class Animal:\n",
        "    def speak(self):\n",
        "        print(\"This animal makes a sound.\")\n",
        "\n",
        "class Dog(Animal):\n",
        "    def speak(self):\n",
        "        print(\"Bark!\")\n",
        "        '''"
      ],
      "metadata": {
        "colab": {
          "base_uri": "https://localhost:8080/",
          "height": 53
        },
        "id": "Vxew7tsiFYaM",
        "outputId": "043542ff-02d6-494d-bda7-f06d454fa59d"
      },
      "execution_count": 1,
      "outputs": [
        {
          "output_type": "execute_result",
          "data": {
            "text/plain": [
              "'\\nclass Animal:\\n    def speak(self):\\n        print(\"This animal makes a sound.\")\\n\\nclass Dog(Animal):\\n    def speak(self):\\n        print(\"Bark!\")\\n        '"
            ],
            "application/vnd.google.colaboratory.intrinsic+json": {
              "type": "string"
            }
          },
          "metadata": {},
          "execution_count": 1
        }
      ]
    },
    {
      "cell_type": "code",
      "source": [
        "#2. Write a program to create an abstract class Shape with a method area(). Derive classes Circle and Rectangle from it and implement the area() method in both.\n",
        "'''\n",
        "Sure! Here’s a shorter version of the code:\n",
        "\n",
        "```python\n",
        "from abc import ABC, abstractmethod\n",
        "import math\n",
        "\n",
        "class Shape(ABC):\n",
        "    @abstractmethod\n",
        "    def area(self): pass\n",
        "\n",
        "class Circle(Shape):\n",
        "    def __init__(self, r): self.r = r\n",
        "    def area(self): return math.pi * self.r**2\n",
        "\n",
        "class Rectangle(Shape):\n",
        "    def __init__(self, w, h): self.w, self.h = w, h\n",
        "    def area(self): return self.w * self.h\n",
        "\n",
        "c = Circle(5)\n",
        "print(c.area())\n",
        "\n",
        "r = Rectangle(4, 6)\n",
        "print(r.area())\n",
        "```\n",
        "'''"
      ],
      "metadata": {
        "colab": {
          "base_uri": "https://localhost:8080/",
          "height": 87
        },
        "id": "6CgpjSsKFysl",
        "outputId": "1fc81da1-e4c5-4113-ed02-70372e3bf192"
      },
      "execution_count": 2,
      "outputs": [
        {
          "output_type": "execute_result",
          "data": {
            "text/plain": [
              "'\\nSure! Here’s a shorter version of the code:\\n\\n```python\\nfrom abc import ABC, abstractmethod\\nimport math\\n\\nclass Shape(ABC):\\n    @abstractmethod\\n    def area(self): pass\\n\\nclass Circle(Shape):\\n    def __init__(self, r): self.r = r\\n    def area(self): return math.pi * self.r**2\\n\\nclass Rectangle(Shape):\\n    def __init__(self, w, h): self.w, self.h = w, h\\n    def area(self): return self.w * self.h\\n\\nc = Circle(5)\\nprint(c.area())\\n\\nr = Rectangle(4, 6)\\nprint(r.area())\\n```\\n'"
            ],
            "application/vnd.google.colaboratory.intrinsic+json": {
              "type": "string"
            }
          },
          "metadata": {},
          "execution_count": 2
        }
      ]
    },
    {
      "cell_type": "code",
      "source": [
        "#3. Implement a multi-level inheritance scenario where a class Vehicle has an attribute type. Derive a class Car and further derive a class ElectricCar that adds a battery attribute.\n",
        "'''\n",
        "class Vehicle:\n",
        "    def __init__(self, type):\n",
        "        self.type = type\n",
        "\n",
        "class Car(Vehicle):\n",
        "    def __init__(self, type, brand):\n",
        "        super().__init__(type)\n",
        "        self.brand = brand\n",
        "\n",
        "class ElectricCar(Car):\n",
        "    def __init__(self, type, brand, battery):\n",
        "        super().__init__(type, brand)\n",
        "        self.battery = battery\n",
        "'''"
      ],
      "metadata": {
        "colab": {
          "base_uri": "https://localhost:8080/",
          "height": 70
        },
        "id": "1U70tc_tGRWH",
        "outputId": "5d60b04e-2aff-4a16-d408-17b64aa35c65"
      },
      "execution_count": 3,
      "outputs": [
        {
          "output_type": "execute_result",
          "data": {
            "text/plain": [
              "'\\nclass Vehicle:\\n    def __init__(self, type):\\n        self.type = type\\n\\nclass Car(Vehicle):\\n    def __init__(self, type, brand):\\n        super().__init__(type)\\n        self.brand = brand\\n\\nclass ElectricCar(Car):\\n    def __init__(self, type, brand, battery):\\n        super().__init__(type, brand)\\n        self.battery = battery\\n'"
            ],
            "application/vnd.google.colaboratory.intrinsic+json": {
              "type": "string"
            }
          },
          "metadata": {},
          "execution_count": 3
        }
      ]
    },
    {
      "cell_type": "code",
      "source": [
        "#4. Demonstrate polymorphism by creating a base class Bird with a method fly(). Create two derived classes Sparrow and Penguin that override the fly() method.\n",
        "'''\n",
        "class Bird:\n",
        "    def fly(self):\n",
        "        print(\"Bird is flying\")\n",
        "\n",
        "class Sparrow(Bird):\n",
        "    def fly(self):\n",
        "        print(\"Sparrow can fly high\")\n",
        "\n",
        "class Penguin(Bird):\n",
        "    def fly(self):\n",
        "        print(\"Penguin can't fly\")\n",
        "\n",
        "# Example usage\n",
        "birds = [Sparrow(), Penguin()]\n",
        "\n",
        "for bird in birds:\n",
        "    bird.fly()\n",
        "'''"
      ],
      "metadata": {
        "colab": {
          "base_uri": "https://localhost:8080/",
          "height": 70
        },
        "id": "ojbdGg_NHkSl",
        "outputId": "592c9eb9-b3f4-466f-feca-f82040f17de6"
      },
      "execution_count": 4,
      "outputs": [
        {
          "output_type": "execute_result",
          "data": {
            "text/plain": [
              "'\\nclass Bird:\\n    def fly(self):\\n        print(\"Bird is flying\")\\n\\nclass Sparrow(Bird):\\n    def fly(self):\\n        print(\"Sparrow can fly high\")\\n\\nclass Penguin(Bird):\\n    def fly(self):\\n        print(\"Penguin can\\'t fly\")\\n\\n# Example usage\\nbirds = [Sparrow(), Penguin()]\\n\\nfor bird in birds:\\n    bird.fly()\\n'"
            ],
            "application/vnd.google.colaboratory.intrinsic+json": {
              "type": "string"
            }
          },
          "metadata": {},
          "execution_count": 4
        }
      ]
    },
    {
      "cell_type": "code",
      "source": [
        "#5. Write a program to demonstrate encapsulation by creating a class BankAccount with private attributes balance and methods to deposit, withdraw, and check balance.\n",
        "'''\n",
        "class BankAccount:\n",
        "    def __init__(self): self.__balance = 0\n",
        "    def deposit(self, amt):\n",
        "        if amt > 0: self.__balance += amt\n",
        "    def withdraw(self, amt):\n",
        "        if 0 < amt <= self.__balance: self.__balance -= amt\n",
        "    def check_balance(self): print(f\"Balance: {self.__balance}\")\n",
        "'''"
      ],
      "metadata": {
        "colab": {
          "base_uri": "https://localhost:8080/",
          "height": 53
        },
        "id": "Z5SZYBSUITAs",
        "outputId": "0958a856-3754-4761-c11f-fba6162c2f61"
      },
      "execution_count": 5,
      "outputs": [
        {
          "output_type": "execute_result",
          "data": {
            "text/plain": [
              "'\\nclass BankAccount:\\n    def __init__(self): self.__balance = 0\\n    def deposit(self, amt): \\n        if amt > 0: self.__balance += amt\\n    def withdraw(self, amt): \\n        if 0 < amt <= self.__balance: self.__balance -= amt\\n    def check_balance(self): print(f\"Balance: {self.__balance}\")\\n'"
            ],
            "application/vnd.google.colaboratory.intrinsic+json": {
              "type": "string"
            }
          },
          "metadata": {},
          "execution_count": 5
        }
      ]
    },
    {
      "cell_type": "code",
      "source": [
        "#6. Demonstrate runtime polymorphism using a method play() in a base class Instrument. Derive classes Guitar and Piano that implement their own version of play().\n",
        "'''\n",
        "class Instrument:\n",
        "    def play(self):\n",
        "        print(\"Instrument is playing\")\n",
        "\n",
        "class Guitar(Instrument):\n",
        "    def play(self):\n",
        "        print(\"Guitar is strumming\")\n",
        "\n",
        "class Piano(Instrument):\n",
        "    def play(self):\n",
        "        print(\"Piano is playing notes\")\n",
        "\n",
        "# Runtime polymorphism\n",
        "for i in [Guitar(), Piano()]:\n",
        "    i.play()\n",
        "'''"
      ],
      "metadata": {
        "colab": {
          "base_uri": "https://localhost:8080/",
          "height": 70
        },
        "id": "Gxej5PiIIuqY",
        "outputId": "5c3e8c71-9eb9-48f3-d01a-4bf50534c5b1"
      },
      "execution_count": 6,
      "outputs": [
        {
          "output_type": "execute_result",
          "data": {
            "text/plain": [
              "'\\nclass Instrument:\\n    def play(self):\\n        print(\"Instrument is playing\")\\n\\nclass Guitar(Instrument):\\n    def play(self):\\n        print(\"Guitar is strumming\")\\n\\nclass Piano(Instrument):\\n    def play(self):\\n        print(\"Piano is playing notes\")\\n\\n# Runtime polymorphism\\nfor i in [Guitar(), Piano()]:\\n    i.play()\\n'"
            ],
            "application/vnd.google.colaboratory.intrinsic+json": {
              "type": "string"
            }
          },
          "metadata": {},
          "execution_count": 6
        }
      ]
    },
    {
      "cell_type": "code",
      "source": [
        "#7. Create a class MathOperations with a class method add_numbers() to add two numbers and a static method subtract_numbers() to subtract two numbers.\n",
        "'''\n",
        "class MathOperations:\n",
        "    @classmethod\n",
        "    def add_numbers(cls, a, b):\n",
        "        return a + b\n",
        "\n",
        "    @staticmethod\n",
        "    def subtract_numbers(a, b):\n",
        "        return a - b\n",
        "'''"
      ],
      "metadata": {
        "colab": {
          "base_uri": "https://localhost:8080/",
          "height": 53
        },
        "id": "T6jzfd3aJRRY",
        "outputId": "38848dd4-04dc-4695-9a84-cd73ab653299"
      },
      "execution_count": 7,
      "outputs": [
        {
          "output_type": "execute_result",
          "data": {
            "text/plain": [
              "'\\nclass MathOperations:\\n    @classmethod\\n    def add_numbers(cls, a, b):\\n        return a + b\\n\\n    @staticmethod\\n    def subtract_numbers(a, b):\\n        return a - b\\n'"
            ],
            "application/vnd.google.colaboratory.intrinsic+json": {
              "type": "string"
            }
          },
          "metadata": {},
          "execution_count": 7
        }
      ]
    },
    {
      "cell_type": "code",
      "source": [
        "#8. Implement a class Person with a class method to count the total number of persons created.\n",
        "'''\n",
        "class Person:\n",
        "    count = 0  # Class variable\n",
        "\n",
        "    def __init__(self, name):\n",
        "        self.name = name\n",
        "        Person.count += 1\n",
        "\n",
        "    @classmethod\n",
        "    def total_persons(cls):\n",
        "        return cls.count\n",
        "'''"
      ],
      "metadata": {
        "colab": {
          "base_uri": "https://localhost:8080/",
          "height": 53
        },
        "id": "IEIxyhcEJriM",
        "outputId": "239434a2-8090-428d-c53a-c436977fb723"
      },
      "execution_count": 8,
      "outputs": [
        {
          "output_type": "execute_result",
          "data": {
            "text/plain": [
              "'\\nclass Person:\\n    count = 0  # Class variable\\n\\n    def __init__(self, name):\\n        self.name = name\\n        Person.count += 1\\n\\n    @classmethod\\n    def total_persons(cls):\\n        return cls.count\\n'"
            ],
            "application/vnd.google.colaboratory.intrinsic+json": {
              "type": "string"
            }
          },
          "metadata": {},
          "execution_count": 8
        }
      ]
    },
    {
      "cell_type": "code",
      "source": [
        "#9. Write a class Fraction with attributes numerator and denominator. Override the str method to display the fraction as \"numerator/denominator\".\n",
        "'''\n",
        "class Fraction:\n",
        "    def __init__(self, numerator, denominator):\n",
        "        self.numerator = numerator\n",
        "        self.denominator = denominator\n",
        "\n",
        "    def __str__(self):\n",
        "        return f\"{self.numerator}/{self.denominator}\"\n",
        "\n",
        "# Example usage\n",
        "f = Fraction(3, 4)\n",
        "print(f)\n",
        "'''\n"
      ],
      "metadata": {
        "colab": {
          "base_uri": "https://localhost:8080/",
          "height": 53
        },
        "id": "uItW_jUWK1WG",
        "outputId": "997c1068-0119-4204-b4fe-af00f14baa56"
      },
      "execution_count": 9,
      "outputs": [
        {
          "output_type": "execute_result",
          "data": {
            "text/plain": [
              "'\\nclass Fraction:\\n    def __init__(self, numerator, denominator):\\n        self.numerator = numerator\\n        self.denominator = denominator\\n\\n    def __str__(self):\\n        return f\"{self.numerator}/{self.denominator}\"\\n\\n# Example usage\\nf = Fraction(3, 4)\\nprint(f)\\n'"
            ],
            "application/vnd.google.colaboratory.intrinsic+json": {
              "type": "string"
            }
          },
          "metadata": {},
          "execution_count": 9
        }
      ]
    },
    {
      "cell_type": "code",
      "source": [
        "#10. Demonstrate operator overloading by creating a class Vector and overriding the add method to add two vectors.\n",
        "'''\n",
        "class Vector:\n",
        "    def __init__(self, x, y):\n",
        "        self.x = x\n",
        "        self.y = y\n",
        "\n",
        "    def __add__(self, other):\n",
        "        return Vector(self.x + other.x, self.y + other.y)\n",
        "\n",
        "    def __str__(self):\n",
        "        return f\"({self.x}, {self.y})\"\n",
        "\n",
        "# Example usage\n",
        "v1 = Vector(2, 3)\n",
        "v2 = Vector(4, 5)\n",
        "v3 = v1 + v2  # Uses __add__\n",
        "print(v3)\n",
        "'''"
      ],
      "metadata": {
        "colab": {
          "base_uri": "https://localhost:8080/",
          "height": 70
        },
        "id": "6JsasjC3Lcue",
        "outputId": "ea654f42-73dd-45bf-9a85-80dfa9c62148"
      },
      "execution_count": 10,
      "outputs": [
        {
          "output_type": "execute_result",
          "data": {
            "text/plain": [
              "'\\nclass Vector:\\n    def __init__(self, x, y):\\n        self.x = x\\n        self.y = y\\n\\n    def __add__(self, other):\\n        return Vector(self.x + other.x, self.y + other.y)\\n\\n    def __str__(self):\\n        return f\"({self.x}, {self.y})\"\\n\\n# Example usage\\nv1 = Vector(2, 3)\\nv2 = Vector(4, 5)\\nv3 = v1 + v2  # Uses __add__\\nprint(v3)\\n'"
            ],
            "application/vnd.google.colaboratory.intrinsic+json": {
              "type": "string"
            }
          },
          "metadata": {},
          "execution_count": 10
        }
      ]
    },
    {
      "cell_type": "code",
      "source": [
        "#11. Create a class Person with attributes name and age. Add a method greet() that prints \"Hello, my name is {name} and I am {age} years old.\"\n",
        "'''\n",
        "Got it! Here’s the updated code with name “Om” and age 17:\n",
        "\n",
        "```python\n",
        "class Person:\n",
        "    def __init__(self, name, age):\n",
        "        self.name = name\n",
        "        self.age = age\n",
        "\n",
        "    def greet(self):\n",
        "        print(f\"Hello, my name is {self.name} and I am {self.age} years old.\")\n",
        "\n",
        "# Example usage\n",
        "p = Person(\"Om\", 17)\n",
        "p.greet()\n",
        "'''\n"
      ],
      "metadata": {
        "colab": {
          "base_uri": "https://localhost:8080/",
          "height": 70
        },
        "id": "nTEoMBpJLt2F",
        "outputId": "677e325f-4abc-4da5-88a4-a4e435f615e8"
      },
      "execution_count": 11,
      "outputs": [
        {
          "output_type": "execute_result",
          "data": {
            "text/plain": [
              "'\\nGot it! Here’s the updated code with name “Om” and age 17:\\n\\n```python\\nclass Person:\\n    def __init__(self, name, age):\\n        self.name = name\\n        self.age = age\\n\\n    def greet(self):\\n        print(f\"Hello, my name is {self.name} and I am {self.age} years old.\")\\n\\n# Example usage\\np = Person(\"Om\", 17)\\np.greet()\\n'"
            ],
            "application/vnd.google.colaboratory.intrinsic+json": {
              "type": "string"
            }
          },
          "metadata": {},
          "execution_count": 11
        }
      ]
    },
    {
      "cell_type": "code",
      "source": [
        "#12. Implement a class Student with attributes name and grades. Create a method average_grade() to compute the average of the grades.\n",
        "'''\n",
        "class Student:\n",
        "    def __init__(self, name, grades):\n",
        "        self.name = name\n",
        "        self.grades = grades  # grades is a list\n",
        "\n",
        "    def average_grade(self):\n",
        "        if not self.grades:\n",
        "            return 0\n",
        "        return sum(self.grades) / len(self.grades)\n",
        "\n",
        "# Example usage\n",
        "s = Student(\"Om\", [80, 90, 85, 70])\n",
        "print(f\"{s.name}'s average grade is {s.average_grade()}\")\n",
        "'''"
      ],
      "metadata": {
        "colab": {
          "base_uri": "https://localhost:8080/",
          "height": 70
        },
        "id": "2baYb7CMMVLH",
        "outputId": "8c77292b-d3a4-4b9a-df5e-5bc3f235d533"
      },
      "execution_count": 12,
      "outputs": [
        {
          "output_type": "execute_result",
          "data": {
            "text/plain": [
              "'\\nclass Student:\\n    def __init__(self, name, grades):\\n        self.name = name\\n        self.grades = grades  # grades is a list\\n\\n    def average_grade(self):\\n        if not self.grades:\\n            return 0\\n        return sum(self.grades) / len(self.grades)\\n\\n# Example usage\\ns = Student(\"Om\", [80, 90, 85, 70])\\nprint(f\"{s.name}\\'s average grade is {s.average_grade()}\")\\n'"
            ],
            "application/vnd.google.colaboratory.intrinsic+json": {
              "type": "string"
            }
          },
          "metadata": {},
          "execution_count": 12
        }
      ]
    },
    {
      "cell_type": "code",
      "source": [
        "#13. Create a class Rectangle with methods set_dimensions() to set the dimensions and area() to calculate the area.\n",
        "'''\n",
        "class Rectangle:\n",
        "    def set_dimensions(self, width, height):\n",
        "        self.width = width\n",
        "        self.height = height\n",
        "\n",
        "    def area(self):\n",
        "        return self.width * self.height\n",
        "\n",
        "# Example usage\n",
        "rect = Rectangle()\n",
        "rect.set_dimensions(5, 3)\n",
        "print(\"Area:\", rect.area())\n",
        "'''"
      ],
      "metadata": {
        "colab": {
          "base_uri": "https://localhost:8080/",
          "height": 53
        },
        "id": "Ry-3XsFIM8Pb",
        "outputId": "3d23b194-d132-45d9-8ab4-cd5e0b0a613d"
      },
      "execution_count": 13,
      "outputs": [
        {
          "output_type": "execute_result",
          "data": {
            "text/plain": [
              "'\\nclass Rectangle:\\n    def set_dimensions(self, width, height):\\n        self.width = width\\n        self.height = height\\n\\n    def area(self):\\n        return self.width * self.height\\n\\n# Example usage\\nrect = Rectangle()\\nrect.set_dimensions(5, 3)\\nprint(\"Area:\", rect.area())\\n'"
            ],
            "application/vnd.google.colaboratory.intrinsic+json": {
              "type": "string"
            }
          },
          "metadata": {},
          "execution_count": 13
        }
      ]
    },
    {
      "cell_type": "code",
      "source": [
        "#14. Create a class Employee with a method calculate_salary() that computes the salary based on hours worked and hourly rate. Create a derived class Manager that adds a bonus to the salary.\n",
        "'''\n",
        "class Employee:\n",
        "    def __init__(self, hours_worked, hourly_rate):\n",
        "        self.hours_worked = hours_worked\n",
        "        self.hourly_rate = hourly_rate\n",
        "\n",
        "    def calculate_salary(self):\n",
        "        return self.hours_worked * self.hourly_rate\n",
        "\n",
        "class Manager(Employee):\n",
        "    def __init__(self, hours_worked, hourly_rate, bonus):\n",
        "        super().__init__(hours_worked, hourly_rate)\n",
        "        self.bonus = bonus\n",
        "\n",
        "    def calculate_salary(self):\n",
        "        base_salary = super().calculate_salary()\n",
        "        return base_salary + self.bonus\n",
        "\n",
        "# Example usage\n",
        "emp = Employee(40, 15)\n",
        "mgr = Manager(40, 15, 500)\n",
        "\n",
        "print(\"Employee Salary:\", emp.calculate_salary())\n",
        "print(\"Manager Salary:\", mgr.calculate_salary())\n",
        "'''"
      ],
      "metadata": {
        "colab": {
          "base_uri": "https://localhost:8080/",
          "height": 105
        },
        "id": "5TQn8uR7N-Ow",
        "outputId": "699e0daf-e0ee-4b30-b4e6-59c49be31952"
      },
      "execution_count": 14,
      "outputs": [
        {
          "output_type": "execute_result",
          "data": {
            "text/plain": [
              "'\\nclass Employee:\\n    def __init__(self, hours_worked, hourly_rate):\\n        self.hours_worked = hours_worked\\n        self.hourly_rate = hourly_rate\\n\\n    def calculate_salary(self):\\n        return self.hours_worked * self.hourly_rate\\n\\nclass Manager(Employee):\\n    def __init__(self, hours_worked, hourly_rate, bonus):\\n        super().__init__(hours_worked, hourly_rate)\\n        self.bonus = bonus\\n\\n    def calculate_salary(self):\\n        base_salary = super().calculate_salary()\\n        return base_salary + self.bonus\\n\\n# Example usage\\nemp = Employee(40, 15)\\nmgr = Manager(40, 15, 500)\\n\\nprint(\"Employee Salary:\", emp.calculate_salary()) \\nprint(\"Manager Salary:\", mgr.calculate_salary()) \\n'"
            ],
            "application/vnd.google.colaboratory.intrinsic+json": {
              "type": "string"
            }
          },
          "metadata": {},
          "execution_count": 14
        }
      ]
    },
    {
      "cell_type": "code",
      "source": [
        "#15. Create a class Product with attributes name, price, and quantity. Implement a method total_price() that calculates the total price of the product.\n",
        "'''\n",
        "class Product:\n",
        "    def __init__(self, name, price, quantity):\n",
        "        self.name = name\n",
        "        self.price = price\n",
        "        self.quantity = quantity\n",
        "\n",
        "    def total_price(self):\n",
        "        return self.price * self.quantity\n",
        "\n",
        "# Example usage\n",
        "p = Product(\"Laptop\", 800, 3)\n",
        "print(f\"Total price of {p.name}: ${p.total_price()}\")\n",
        "'''"
      ],
      "metadata": {
        "colab": {
          "base_uri": "https://localhost:8080/",
          "height": 70
        },
        "id": "ks880J3cOpLB",
        "outputId": "9f901093-9b33-4930-8b37-6fafa7d5a4a5"
      },
      "execution_count": 15,
      "outputs": [
        {
          "output_type": "execute_result",
          "data": {
            "text/plain": [
              "'\\nclass Product:\\n    def __init__(self, name, price, quantity):\\n        self.name = name\\n        self.price = price\\n        self.quantity = quantity\\n\\n    def total_price(self):\\n        return self.price * self.quantity\\n\\n# Example usage\\np = Product(\"Laptop\", 800, 3)\\nprint(f\"Total price of {p.name}: ${p.total_price()}\")\\n'"
            ],
            "application/vnd.google.colaboratory.intrinsic+json": {
              "type": "string"
            }
          },
          "metadata": {},
          "execution_count": 15
        }
      ]
    },
    {
      "cell_type": "code",
      "source": [
        "#16. Create a class Animal with an abstract method sound(). Create two derived classes Cow and Sheep that implement the sound() method.\n",
        "'''\n",
        "from abc import ABC, abstractmethod\n",
        "\n",
        "class Animal(ABC):\n",
        "    @abstractmethod\n",
        "    def sound(self):\n",
        "        pass\n",
        "\n",
        "class Cow(Animal):\n",
        "    def sound(self):\n",
        "        print(\"Moo\")\n",
        "\n",
        "class Sheep(Animal):\n",
        "    def sound(self):\n",
        "        print(\"Baa\")\n",
        "\n",
        "# Example usage\n",
        "c = Cow()\n",
        "s = Sheep()\n",
        "\n",
        "c.sound()\n",
        "s.sound()\n",
        "'''"
      ],
      "metadata": {
        "colab": {
          "base_uri": "https://localhost:8080/",
          "height": 70
        },
        "id": "Ynmf7sdIO8OA",
        "outputId": "4e576d11-7d9a-4880-949b-42f0fac06fad"
      },
      "execution_count": 16,
      "outputs": [
        {
          "output_type": "execute_result",
          "data": {
            "text/plain": [
              "'\\nfrom abc import ABC, abstractmethod\\n\\nclass Animal(ABC):\\n    @abstractmethod\\n    def sound(self):\\n        pass\\n\\nclass Cow(Animal):\\n    def sound(self):\\n        print(\"Moo\")\\n\\nclass Sheep(Animal):\\n    def sound(self):\\n        print(\"Baa\")\\n\\n# Example usage\\nc = Cow()\\ns = Sheep()\\n\\nc.sound() \\ns.sound()\\n'"
            ],
            "application/vnd.google.colaboratory.intrinsic+json": {
              "type": "string"
            }
          },
          "metadata": {},
          "execution_count": 16
        }
      ]
    },
    {
      "cell_type": "code",
      "source": [
        "#17. Create a class Book with attributes title, author, and year_published. Add a method get_book_info() that returns a formatted string with the book's details.\n",
        "'''\n",
        "class Book:\n",
        "    def __init__(self, title, author, year_published):\n",
        "        self.title = title\n",
        "        self.author = author\n",
        "        self.year_published = year_published\n",
        "\n",
        "    def get_book_info(self):\n",
        "        return f\"'{self.title}' by {self.author}, published in {self.year_published}\"\n",
        "\n",
        "# Example usage\n",
        "book = Book(\"1984\", \"George Orwell\", 1949)\n",
        "print(book.get_book_info())\n",
        "'''"
      ],
      "metadata": {
        "colab": {
          "base_uri": "https://localhost:8080/",
          "height": 70
        },
        "id": "4IjAlRCQPLfw",
        "outputId": "e28baeb0-7698-44de-8056-372db5400000"
      },
      "execution_count": 17,
      "outputs": [
        {
          "output_type": "execute_result",
          "data": {
            "text/plain": [
              "'\\nclass Book:\\n    def __init__(self, title, author, year_published):\\n        self.title = title\\n        self.author = author\\n        self.year_published = year_published\\n\\n    def get_book_info(self):\\n        return f\"\\'{self.title}\\' by {self.author}, published in {self.year_published}\"\\n\\n# Example usage\\nbook = Book(\"1984\", \"George Orwell\", 1949)\\nprint(book.get_book_info())\\n'"
            ],
            "application/vnd.google.colaboratory.intrinsic+json": {
              "type": "string"
            }
          },
          "metadata": {},
          "execution_count": 17
        }
      ]
    },
    {
      "cell_type": "code",
      "source": [
        "#18. Create a class House with attributes address and price. Create a derived class Mansion that adds an attribute number_of_rooms.\n",
        "'''\n",
        "class House:\n",
        "    def __init__(self, address, price):\n",
        "        self.address = address\n",
        "        self.price = price\n",
        "\n",
        "class Mansion(House):\n",
        "    def __init__(self, address, price, number_of_rooms):\n",
        "        super().__init__(address, price)\n",
        "        self.number_of_rooms = number_of_rooms\n",
        "\n",
        "# Example usage\n",
        "m = Mansion(\"123 Luxury St\", 5000000, 10)\n",
        "print(m.address)\n",
        "print(m.price)\n",
        "print(m.number_of_rooms)\n",
        "'''"
      ],
      "metadata": {
        "colab": {
          "base_uri": "https://localhost:8080/",
          "height": 70
        },
        "id": "AUlp0KxmPZ4R",
        "outputId": "7021dbf8-24f0-40b9-aa6b-e36ed57e0953"
      },
      "execution_count": 18,
      "outputs": [
        {
          "output_type": "execute_result",
          "data": {
            "text/plain": [
              "'\\nclass House:\\n    def __init__(self, address, price):\\n        self.address = address\\n        self.price = price\\n\\nclass Mansion(House):\\n    def __init__(self, address, price, number_of_rooms):\\n        super().__init__(address, price)\\n        self.number_of_rooms = number_of_rooms\\n\\n# Example usage\\nm = Mansion(\"123 Luxury St\", 5000000, 10)\\nprint(m.address)          \\nprint(m.price)           \\nprint(m.number_of_rooms)  \\n'"
            ],
            "application/vnd.google.colaboratory.intrinsic+json": {
              "type": "string"
            }
          },
          "metadata": {},
          "execution_count": 18
        }
      ]
    },
    {
      "cell_type": "code",
      "source": [],
      "metadata": {
        "id": "rvO7FITIPrnM"
      },
      "execution_count": null,
      "outputs": []
    }
  ]
}